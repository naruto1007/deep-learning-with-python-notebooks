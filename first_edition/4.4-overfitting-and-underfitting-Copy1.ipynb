{
 "cells": [
  {
   "cell_type": "code",
   "execution_count": 13,
   "metadata": {},
   "outputs": [
    {
     "data": {
      "text/plain": [
       "'2.13.1'"
      ]
     },
     "execution_count": 13,
     "metadata": {},
     "output_type": "execute_result"
    }
   ],
   "source": [
    "import keras\n",
    "keras.__version__"
   ]
  },
  {
   "cell_type": "code",
   "execution_count": 14,
   "metadata": {},
   "outputs": [],
   "source": [
    "from keras.datasets import imdb\n",
    "import numpy as np\n",
    "\n",
    "(train_data, train_labels), (test_data, test_labels) = imdb.load_data(num_words=10000)\n",
    "\n",
    "def vectorize_sequences(sequences, dimension=10000):\n",
    "    # Create an all-zero matrix of shape (len(sequences), dimension)\n",
    "    results = np.zeros((len(sequences), dimension))\n",
    "    for i, sequence in enumerate(sequences):\n",
    "        results[i, sequence] = 1.  # set specific indices of results[i] to 1s\n",
    "    return results\n",
    "\n",
    "# Our vectorized training data\n",
    "x_train = vectorize_sequences(train_data)\n",
    "# Our vectorized test data\n",
    "x_test = vectorize_sequences(test_data)\n",
    "# Our vectorized labels\n",
    "y_train = np.asarray(train_labels).astype('float32')\n",
    "y_test = np.asarray(test_labels).astype('float32')"
   ]
  },
  {
   "cell_type": "markdown",
   "metadata": {},
   "source": [
    "Note: in this notebook we will be using the IMDB test set as our validation set. It doesn't matter in this context.\n",
    "\n",
    "Let's prepare the data using the code from Chapter 3, Section 5:"
   ]
  },
  {
   "cell_type": "code",
   "execution_count": 2,
   "metadata": {},
   "outputs": [
    {
     "name": "stdout",
     "output_type": "stream",
     "text": [
      "Downloading data from https://storage.googleapis.com/tensorflow/tf-keras-datasets/imdb.npz\n",
      "17464789/17464789 [==============================] - 3s 0us/step\n"
     ]
    }
   ],
   "source": [
    "from keras.datasets import imdb\n",
    "import numpy as np\n",
    "\n",
    "(train_data, train_labels), (test_data, test_labels) = imdb.load_data(num_words=10000)\n",
    "\n",
    "def vectorize_sequences(sequences, dimension=10000):\n",
    "    # Create an all-zero matrix of shape (len(sequences), dimension)\n",
    "    results = np.zeros((len(sequences), dimension))\n",
    "    for i, sequence in enumerate(sequences):\n",
    "        results[i, sequence] = 1.  # set specific indices of results[i] to 1s\n",
    "    return results\n",
    "\n",
    "# Our vectorized training data\n",
    "x_train = vectorize_sequences(train_data)\n",
    "# Our vectorized test data\n",
    "x_test = vectorize_sequences(test_data)\n",
    "# Our vectorized labels\n",
    "y_train = np.asarray(train_labels).astype('float32')\n",
    "y_test = np.asarray(test_labels).astype('float32')"
   ]
  },
  {
   "cell_type": "code",
   "execution_count": 15,
   "metadata": {},
   "outputs": [],
   "source": [
    "from keras import models\n",
    "from keras import layers\n",
    "\n",
    "original_model = models.Sequential()\n",
    "original_model.add(layers.Dense(16, activation='relu', input_shape=(10000,)))\n",
    "original_model.add(layers.Dense(16, activation='relu'))\n",
    "original_model.add(layers.Dense(1, activation='sigmoid'))\n",
    "\n",
    "original_model.compile(optimizer='rmsprop',\n",
    "                       loss='binary_crossentropy',\n",
    "                       metrics=['acc'])"
   ]
  },
  {
   "cell_type": "code",
   "execution_count": 16,
   "metadata": {},
   "outputs": [
    {
     "name": "stdout",
     "output_type": "stream",
     "text": [
      "Epoch 1/20\n",
      "49/49 [==============================] - 10s 198ms/step - loss: 0.5228 - acc: 0.8054 - val_loss: 0.3958 - val_acc: 0.8660\n",
      "Epoch 2/20\n",
      "49/49 [==============================] - 1s 30ms/step - loss: 0.3130 - acc: 0.8921 - val_loss: 0.2999 - val_acc: 0.8863\n",
      "Epoch 3/20\n",
      "49/49 [==============================] - 1s 28ms/step - loss: 0.2389 - acc: 0.9140 - val_loss: 0.2782 - val_acc: 0.8881\n",
      "Epoch 4/20\n",
      "49/49 [==============================] - 1s 28ms/step - loss: 0.2015 - acc: 0.9274 - val_loss: 0.2770 - val_acc: 0.8892\n",
      "Epoch 5/20\n",
      "49/49 [==============================] - 1s 28ms/step - loss: 0.1757 - acc: 0.9374 - val_loss: 0.2868 - val_acc: 0.8864\n",
      "Epoch 6/20\n",
      "49/49 [==============================] - 1s 27ms/step - loss: 0.1588 - acc: 0.9441 - val_loss: 0.3037 - val_acc: 0.8812\n",
      "Epoch 7/20\n",
      "49/49 [==============================] - 1s 26ms/step - loss: 0.1425 - acc: 0.9497 - val_loss: 0.3150 - val_acc: 0.8790\n",
      "Epoch 8/20\n",
      "49/49 [==============================] - 1s 29ms/step - loss: 0.1299 - acc: 0.9546 - val_loss: 0.3258 - val_acc: 0.8779\n",
      "Epoch 9/20\n",
      "49/49 [==============================] - 1s 30ms/step - loss: 0.1177 - acc: 0.9600 - val_loss: 0.3424 - val_acc: 0.8761\n",
      "Epoch 10/20\n",
      "49/49 [==============================] - 1s 30ms/step - loss: 0.1074 - acc: 0.9634 - val_loss: 0.3608 - val_acc: 0.8740\n",
      "Epoch 11/20\n",
      "49/49 [==============================] - 1s 27ms/step - loss: 0.0981 - acc: 0.9683 - val_loss: 0.3812 - val_acc: 0.8713\n",
      "Epoch 12/20\n",
      "49/49 [==============================] - 1s 28ms/step - loss: 0.0879 - acc: 0.9720 - val_loss: 0.4022 - val_acc: 0.8696\n",
      "Epoch 13/20\n",
      "49/49 [==============================] - 2s 36ms/step - loss: 0.0808 - acc: 0.9752 - val_loss: 0.4325 - val_acc: 0.8665\n",
      "Epoch 14/20\n",
      "49/49 [==============================] - 1s 30ms/step - loss: 0.0718 - acc: 0.9785 - val_loss: 0.4459 - val_acc: 0.8663\n",
      "Epoch 15/20\n",
      "49/49 [==============================] - 1s 30ms/step - loss: 0.0643 - acc: 0.9815 - val_loss: 0.4814 - val_acc: 0.8593\n",
      "Epoch 16/20\n",
      "49/49 [==============================] - 2s 34ms/step - loss: 0.0562 - acc: 0.9848 - val_loss: 0.4971 - val_acc: 0.8608\n",
      "Epoch 17/20\n",
      "49/49 [==============================] - 1s 29ms/step - loss: 0.0516 - acc: 0.9856 - val_loss: 0.5246 - val_acc: 0.8607\n",
      "Epoch 18/20\n",
      "49/49 [==============================] - 2s 31ms/step - loss: 0.0449 - acc: 0.9888 - val_loss: 0.5738 - val_acc: 0.8527\n",
      "Epoch 19/20\n",
      "49/49 [==============================] - 1s 28ms/step - loss: 0.0408 - acc: 0.9892 - val_loss: 0.5671 - val_acc: 0.8574\n",
      "Epoch 20/20\n",
      "49/49 [==============================] - 1s 29ms/step - loss: 0.0331 - acc: 0.9924 - val_loss: 0.6039 - val_acc: 0.8568\n"
     ]
    }
   ],
   "source": [
    "original_hist = original_model.fit(x_train, y_train,\n",
    "                                   epochs=20,\n",
    "                                   batch_size=512,\n",
    "                                   validation_data=(x_test, y_test))"
   ]
  },
  {
   "cell_type": "code",
   "execution_count": 21,
   "metadata": {},
   "outputs": [
    {
     "name": "stdout",
     "output_type": "stream",
     "text": [
      "Epoch 1/20\n",
      "49/49 [==============================] - 10s 202ms/step - loss: 0.5811 - acc: 0.7340 - val_loss: 0.5124 - val_acc: 0.8110\n",
      "Epoch 2/20\n",
      "49/49 [==============================] - 1s 29ms/step - loss: 0.4376 - acc: 0.8791 - val_loss: 0.4115 - val_acc: 0.8734\n",
      "Epoch 3/20\n",
      "49/49 [==============================] - 2s 39ms/step - loss: 0.3314 - acc: 0.9102 - val_loss: 0.3360 - val_acc: 0.8833\n",
      "Epoch 4/20\n",
      "49/49 [==============================] - 1s 27ms/step - loss: 0.2579 - acc: 0.9232 - val_loss: 0.2991 - val_acc: 0.8883\n",
      "Epoch 5/20\n",
      "49/49 [==============================] - 1s 26ms/step - loss: 0.2147 - acc: 0.9341 - val_loss: 0.2843 - val_acc: 0.8888\n",
      "Epoch 6/20\n",
      "49/49 [==============================] - 1s 27ms/step - loss: 0.1880 - acc: 0.9404 - val_loss: 0.2845 - val_acc: 0.8852\n",
      "Epoch 7/20\n",
      "49/49 [==============================] - 1s 26ms/step - loss: 0.1684 - acc: 0.9458 - val_loss: 0.2851 - val_acc: 0.8880\n",
      "Epoch 8/20\n",
      "49/49 [==============================] - 1s 27ms/step - loss: 0.1542 - acc: 0.9510 - val_loss: 0.2910 - val_acc: 0.8838\n",
      "Epoch 9/20\n",
      "49/49 [==============================] - 1s 29ms/step - loss: 0.1413 - acc: 0.9558 - val_loss: 0.2972 - val_acc: 0.8839\n",
      "Epoch 10/20\n",
      "49/49 [==============================] - 1s 28ms/step - loss: 0.1307 - acc: 0.9594 - val_loss: 0.3064 - val_acc: 0.8816\n",
      "Epoch 11/20\n",
      "49/49 [==============================] - 1s 27ms/step - loss: 0.1208 - acc: 0.9632 - val_loss: 0.3327 - val_acc: 0.8741\n",
      "Epoch 12/20\n",
      "49/49 [==============================] - 1s 26ms/step - loss: 0.1117 - acc: 0.9665 - val_loss: 0.3402 - val_acc: 0.8744\n",
      "Epoch 13/20\n",
      "49/49 [==============================] - 1s 27ms/step - loss: 0.1034 - acc: 0.9686 - val_loss: 0.3442 - val_acc: 0.8748\n",
      "Epoch 14/20\n",
      "49/49 [==============================] - 1s 27ms/step - loss: 0.0955 - acc: 0.9730 - val_loss: 0.3585 - val_acc: 0.8730\n",
      "Epoch 15/20\n",
      "49/49 [==============================] - 1s 29ms/step - loss: 0.0875 - acc: 0.9752 - val_loss: 0.3820 - val_acc: 0.8719\n",
      "Epoch 16/20\n",
      "49/49 [==============================] - 2s 33ms/step - loss: 0.0807 - acc: 0.9783 - val_loss: 0.3988 - val_acc: 0.8657\n",
      "Epoch 17/20\n",
      "49/49 [==============================] - 1s 30ms/step - loss: 0.0751 - acc: 0.9798 - val_loss: 0.3991 - val_acc: 0.8691\n",
      "Epoch 18/20\n",
      "49/49 [==============================] - 1s 30ms/step - loss: 0.0686 - acc: 0.9823 - val_loss: 0.4143 - val_acc: 0.8678\n",
      "Epoch 19/20\n",
      "49/49 [==============================] - 1s 28ms/step - loss: 0.0640 - acc: 0.9840 - val_loss: 0.4288 - val_acc: 0.8670\n",
      "Epoch 20/20\n",
      "49/49 [==============================] - 1s 26ms/step - loss: 0.0583 - acc: 0.9867 - val_loss: 0.4465 - val_acc: 0.8650\n"
     ]
    }
   ],
   "source": [
    "smaller_model = models.Sequential()\n",
    "smaller_model.add(layers.Dense(4, activation='relu', input_shape=(10000,)))\n",
    "smaller_model.add(layers.Dense(4, activation='relu'))\n",
    "smaller_model.add(layers.Dense(1, activation='sigmoid'))\n",
    "\n",
    "smaller_model.compile(optimizer='rmsprop',\n",
    "                      loss='binary_crossentropy',\n",
    "                      metrics=['acc'])\n",
    "\n",
    "smaller_model_hist = smaller_model.fit(x_train, y_train,\n",
    "                                       epochs=20,\n",
    "                                       batch_size=512,\n",
    "                                       validation_data=(x_test, y_test))"
   ]
  },
  {
   "cell_type": "code",
   "execution_count": 22,
   "metadata": {},
   "outputs": [],
   "source": [
    "epochs = range(1, 21)\n",
    "original_val_loss = original_hist.history['val_loss']\n",
    "smaller_model_val_loss = smaller_model_hist.history['val_loss']"
   ]
  },
  {
   "cell_type": "code",
   "execution_count": 23,
   "metadata": {},
   "outputs": [
    {
     "data": {
      "image/png": "[encoded data removed]",
      "text/plain": [
       "<Figure size 640x480 with 1 Axes>"
      ]
     },
     "metadata": {},
     "output_type": "display_data"
    }
   ],
   "source": [
    "import matplotlib.pyplot as plt\n",
    "\n",
    "# b+ is for \"blue cross\"\n",
    "plt.plot(epochs, original_val_loss, 'b+', label='Original model')\n",
    "# \"bo\" is for \"blue dot\"\n",
    "plt.plot(epochs, smaller_model_val_loss, 'bo', label='Smaller model')\n",
    "plt.xlabel('Epochs')\n",
    "plt.ylabel('Validation loss')\n",
    "plt.legend()\n",
    "\n",
    "plt.show()"
   ]
  },
  {
   "cell_type": "code",
   "execution_count": 33,
   "metadata": {},
   "outputs": [],
   "source": [
    "from keras import regularizers\n",
    "\n",
    "l2_model = models.Sequential()\n",
    "l2_model.add(layers.Dense(16, kernel_regularizer=regularizers.l2(0.001),\n",
    "                          activation='relu', input_shape=(10000,)))\n",
    "l2_model.add(layers.Dense(16, kernel_regularizer=regularizers.l2(0.001),\n",
    "                          activation='relu'))\n",
    "l2_model.add(layers.Dense(1, activation='sigmoid'))\n",
    "\n",
    "l2_model.compile(optimizer='rmsprop',\n",
    "                 loss='binary_crossentropy',\n",
    "                 metrics=['acc'])"
   ]
  },
  {
   "cell_type": "code",
   "execution_count": 34,
   "metadata": {},
   "outputs": [
    {
     "name": "stdout",
     "output_type": "stream",
     "text": [
      "Epoch 1/20\n",
      "49/49 [==============================] - 11s 211ms/step - loss: 0.5119 - acc: 0.8182 - val_loss: 0.4059 - val_acc: 0.8667\n",
      "Epoch 2/20\n",
      "49/49 [==============================] - 1s 30ms/step - loss: 0.3303 - acc: 0.9008 - val_loss: 0.3399 - val_acc: 0.8878\n",
      "Epoch 3/20\n",
      "49/49 [==============================] - 1s 29ms/step - loss: 0.2802 - acc: 0.9172 - val_loss: 0.3398 - val_acc: 0.8846\n",
      "Epoch 4/20\n",
      "49/49 [==============================] - 1s 29ms/step - loss: 0.2578 - acc: 0.9244 - val_loss: 0.3322 - val_acc: 0.8882\n",
      "Epoch 5/20\n",
      "49/49 [==============================] - 1s 29ms/step - loss: 0.2418 - acc: 0.9313 - val_loss: 0.3399 - val_acc: 0.8856\n",
      "Epoch 6/20\n",
      "49/49 [==============================] - 2s 32ms/step - loss: 0.2317 - acc: 0.9374 - val_loss: 0.3856 - val_acc: 0.8671\n",
      "Epoch 7/20\n",
      "49/49 [==============================] - 2s 33ms/step - loss: 0.2231 - acc: 0.9416 - val_loss: 0.4078 - val_acc: 0.8600\n",
      "Epoch 8/20\n",
      "49/49 [==============================] - 1s 29ms/step - loss: 0.2199 - acc: 0.9420 - val_loss: 0.3693 - val_acc: 0.8764\n",
      "Epoch 9/20\n",
      "49/49 [==============================] - 1s 29ms/step - loss: 0.2147 - acc: 0.9435 - val_loss: 0.3874 - val_acc: 0.8720\n",
      "Epoch 10/20\n",
      "49/49 [==============================] - 1s 29ms/step - loss: 0.2088 - acc: 0.9470 - val_loss: 0.3736 - val_acc: 0.8770\n",
      "Epoch 11/20\n",
      "49/49 [==============================] - 1s 28ms/step - loss: 0.2080 - acc: 0.9466 - val_loss: 0.4126 - val_acc: 0.8646\n",
      "Epoch 12/20\n",
      "49/49 [==============================] - 2s 33ms/step - loss: 0.2051 - acc: 0.9480 - val_loss: 0.3862 - val_acc: 0.8744\n",
      "Epoch 13/20\n",
      "49/49 [==============================] - 1s 30ms/step - loss: 0.2003 - acc: 0.9500 - val_loss: 0.4493 - val_acc: 0.8568\n",
      "Epoch 14/20\n",
      "49/49 [==============================] - 1s 28ms/step - loss: 0.1999 - acc: 0.9499 - val_loss: 0.4173 - val_acc: 0.8670\n",
      "Epoch 15/20\n",
      "49/49 [==============================] - 1s 30ms/step - loss: 0.1956 - acc: 0.9517 - val_loss: 0.4137 - val_acc: 0.8690\n",
      "Epoch 16/20\n",
      "49/49 [==============================] - 1s 28ms/step - loss: 0.1945 - acc: 0.9524 - val_loss: 0.4215 - val_acc: 0.8668\n",
      "Epoch 17/20\n",
      "49/49 [==============================] - 1s 30ms/step - loss: 0.1913 - acc: 0.9548 - val_loss: 0.4382 - val_acc: 0.8638\n",
      "Epoch 18/20\n",
      "49/49 [==============================] - 1s 28ms/step - loss: 0.1890 - acc: 0.9535 - val_loss: 0.4221 - val_acc: 0.8684\n",
      "Epoch 19/20\n",
      "49/49 [==============================] - 1s 28ms/step - loss: 0.1873 - acc: 0.9553 - val_loss: 0.4425 - val_acc: 0.8632\n",
      "Epoch 20/20\n",
      "49/49 [==============================] - 1s 28ms/step - loss: 0.1868 - acc: 0.9553 - val_loss: 0.4288 - val_acc: 0.8680\n"
     ]
    }
   ],
   "source": [
    "l2_model_hist = l2_model.fit(x_train, y_train,\n",
    "                             epochs=20,\n",
    "                             batch_size=512,\n",
    "                             validation_data=(x_test, y_test))"
   ]
  },
  {
   "cell_type": "code",
   "execution_count": 35,
   "metadata": {},
   "outputs": [
    {
     "data": {
      "image/png": "[encoded data removed]",
      "text/plain": [
       "<Figure size 640x480 with 1 Axes>"
      ]
     },
     "metadata": {},
     "output_type": "display_data"
    }
   ],
   "source": [
    "epochs = range(1, 21)\n",
    "import matplotlib.pyplot as plt\n",
    "\n",
    "original_val_loss = original_hist.history['val_loss']\n",
    "l2_model_val_loss = l2_model_hist.history['val_loss']\n",
    "\n",
    "plt.plot(epochs, original_val_loss, 'b+', label='Original model')\n",
    "plt.plot(epochs, l2_model_val_loss, 'bo', label='L2-regularized model')\n",
    "plt.xlabel('Epochs')\n",
    "plt.ylabel('Validation loss')\n",
    "plt.legend()\n",
    "\n",
    "plt.show()"
   ]
  },
  {
   "cell_type": "code",
   "execution_count": 71,
   "metadata": {},
   "outputs": [],
   "source": [
    "from keras import regularizers\n",
    "from keras import optimizers\n",
    "\n",
    "dpt_model = models.Sequential()\n",
    "dpt_model.add(layers.Dense(8, kernel_regularizer=regularizers.l2(0.0001), activation='relu', input_shape=(10000,)))\n",
    "dpt_model.add(layers.Dropout(0.5))\n",
    "dpt_model.add(layers.Dense(8, kernel_regularizer=regularizers.l2(0.0001), activation='relu'))\n",
    "dpt_model.add(layers.Dropout(0.5))\n",
    "dpt_model.add(layers.Dense(1, activation='sigmoid'))\n",
    "\n",
    "dpt_model.compile(optimizer=optimizers.RMSprop(learning_rate=0.001),\n",
    "                  loss='binary_crossentropy',\n",
    "                  metrics=['acc'])"
   ]
  },
  {
   "cell_type": "code",
   "execution_count": 72,
   "metadata": {},
   "outputs": [
    {
     "name": "stdout",
     "output_type": "stream",
     "text": [
      "Epoch 1/20\n",
      "49/49 [==============================] - 11s 220ms/step - loss: 0.6402 - acc: 0.6624 - val_loss: 0.5608 - val_acc: 0.7886\n",
      "Epoch 2/20\n",
      "49/49 [==============================] - 1s 28ms/step - loss: 0.5578 - acc: 0.7867 - val_loss: 0.4938 - val_acc: 0.8490\n",
      "Epoch 3/20\n",
      "49/49 [==============================] - 1s 27ms/step - loss: 0.5083 - acc: 0.8266 - val_loss: 0.4526 - val_acc: 0.8711\n",
      "Epoch 4/20\n",
      "49/49 [==============================] - 1s 27ms/step - loss: 0.4670 - acc: 0.8492 - val_loss: 0.4298 - val_acc: 0.8764\n",
      "Epoch 5/20\n",
      "49/49 [==============================] - 1s 28ms/step - loss: 0.4272 - acc: 0.8646 - val_loss: 0.4000 - val_acc: 0.8805\n",
      "Epoch 6/20\n",
      "49/49 [==============================] - 2s 35ms/step - loss: 0.3936 - acc: 0.8770 - val_loss: 0.3830 - val_acc: 0.8811\n",
      "Epoch 7/20\n",
      "49/49 [==============================] - 1s 28ms/step - loss: 0.3696 - acc: 0.8821 - val_loss: 0.3742 - val_acc: 0.8809\n",
      "Epoch 8/20\n",
      "49/49 [==============================] - 1s 28ms/step - loss: 0.3430 - acc: 0.8932 - val_loss: 0.3644 - val_acc: 0.8785\n",
      "Epoch 9/20\n",
      "49/49 [==============================] - 1s 27ms/step - loss: 0.3219 - acc: 0.9006 - val_loss: 0.3671 - val_acc: 0.8791\n",
      "Epoch 10/20\n",
      "49/49 [==============================] - 1s 27ms/step - loss: 0.3056 - acc: 0.9061 - val_loss: 0.3621 - val_acc: 0.8751\n",
      "Epoch 11/20\n",
      "49/49 [==============================] - 1s 26ms/step - loss: 0.2936 - acc: 0.9095 - val_loss: 0.3612 - val_acc: 0.8726\n",
      "Epoch 12/20\n",
      "49/49 [==============================] - 1s 27ms/step - loss: 0.2808 - acc: 0.9151 - val_loss: 0.3876 - val_acc: 0.8742\n",
      "Epoch 13/20\n",
      "49/49 [==============================] - 1s 28ms/step - loss: 0.2664 - acc: 0.9194 - val_loss: 0.3785 - val_acc: 0.8754\n",
      "Epoch 14/20\n",
      "49/49 [==============================] - 1s 28ms/step - loss: 0.2545 - acc: 0.9245 - val_loss: 0.4121 - val_acc: 0.8717\n",
      "Epoch 15/20\n",
      "49/49 [==============================] - 1s 27ms/step - loss: 0.2449 - acc: 0.9296 - val_loss: 0.4053 - val_acc: 0.8734\n",
      "Epoch 16/20\n",
      "49/49 [==============================] - 1s 27ms/step - loss: 0.2342 - acc: 0.9327 - val_loss: 0.4356 - val_acc: 0.8710\n",
      "Epoch 17/20\n",
      "49/49 [==============================] - 1s 27ms/step - loss: 0.2203 - acc: 0.9398 - val_loss: 0.4429 - val_acc: 0.8715\n",
      "Epoch 18/20\n",
      "49/49 [==============================] - 1s 28ms/step - loss: 0.2218 - acc: 0.9384 - val_loss: 0.4381 - val_acc: 0.8710\n",
      "Epoch 19/20\n",
      "49/49 [==============================] - 1s 28ms/step - loss: 0.2153 - acc: 0.9402 - val_loss: 0.4665 - val_acc: 0.8703\n",
      "Epoch 20/20\n",
      "49/49 [==============================] - 1s 26ms/step - loss: 0.2112 - acc: 0.9433 - val_loss: 0.4531 - val_acc: 0.8692\n"
     ]
    }
   ],
   "source": [
    "dpt_model_hist = dpt_model.fit(x_train, y_train,\n",
    "                               epochs=20,\n",
    "                               batch_size=512,\n",
    "                               validation_data=(x_test, y_test))"
   ]
  },
  {
   "cell_type": "code",
   "execution_count": 73,
   "metadata": {},
   "outputs": [
    {
     "data": {
      "image/png": "[encoded data removed]",
      "text/plain": [
       "<Figure size 640x480 with 1 Axes>"
      ]
     },
     "metadata": {},
     "output_type": "display_data"
    }
   ],
   "source": [
    "dpt_model_val_loss = dpt_model_hist.history['val_loss']\n",
    "\n",
    "plt.plot(epochs, original_val_loss, 'b+', label='Original model')\n",
    "plt.plot(epochs, dpt_model_val_loss, 'bo', label='Dropout-regularized model')\n",
    "plt.xlabel('Epochs')\n",
    "plt.ylabel('Validation loss')\n",
    "plt.legend()\n",
    "\n",
    "plt.show()"
   ]
  },
  {
   "cell_type": "markdown",
   "metadata": {},
   "source": [
    "\n",
    "Again, a clear improvement over the reference network.\n",
    "\n",
    "To recap: here the most common ways to prevent overfitting in neural networks:\n",
    "\n",
    "* Getting more training data.\n",
    "* Reducing the capacity of the network.\n",
    "* Adding weight regularization.\n",
    "* Adding dropout."
   ]
  },
  {
   "cell_type": "code",
   "execution_count": 77,
   "metadata": {},
   "outputs": [
    {
     "data": {
      "text/plain": [
       "2.0"
      ]
     },
     "execution_count": 77,
     "metadata": {},
     "output_type": "execute_result"
    }
   ],
   "source": [
    "10.0//4"
   ]
  },
  {
   "cell_type": "code",
   "execution_count": null,
   "metadata": {},
   "outputs": [],
   "source": []
  }
 ],
 "metadata": {
  "kernelspec": {
   "display_name": "Python 3 (ipykernel)",
   "language": "python",
   "name": "python3"
  },
  "language_info": {
   "codemirror_mode": {
    "name": "ipython",
    "version": 3
   },
   "file_extension": ".py",
   "mimetype": "text/x-python",
   "name": "python",
   "nbconvert_exporter": "python",
   "pygments_lexer": "ipython3",
   "version": "3.8.19"
  }
 },
 "nbformat": 4,
 "nbformat_minor": 4
}
